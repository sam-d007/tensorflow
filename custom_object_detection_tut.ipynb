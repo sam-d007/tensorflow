{
 "cells": [
  {
   "cell_type": "markdown",
   "metadata": {},
   "source": [
    "### Setup for training\n",
    "\n",
    "Create a folder named \"images\" in object detection folder.\n",
    "Create train and test folder inside \"images\".\n",
    "Split the images into train(80%) and test(20%) folders.\n",
    "Now, label the images using labelimg tool.\n",
    "An XML file will be generated for each image.\n",
    "Convert the xml to csv to generate a tfrecord file using xml_to_csv.py file inside obj detection folder.\n",
    "\n",
    "Generating train.record:\n",
    "python generate_tfrecord.py --csv_input=images\\train_labels.csv --image_dir=images\\train --output_path=train.record\n",
    "\n",
    "Generating test.record :\n",
    "python generate_tfrecord.py --csv_input=images\\test_labels.csv --image_dir=images\\test --output_path=test.record\n",
    "\n",
    "Create a label map\n",
    "\n",
    "\"No mudule named 'nets' \" error : cd object_detection/slim.=/ -> python setup.py install\n",
    "\n",
    "Error : First step cannot be zero.\n",
    "object_detection/training/faster_rcnn_inception_v2_pets.config -> remove \n",
    "schedule {\n",
    "            step: 0\n",
    "            learning_rate: .0002\n",
    "}\n"
   ]
  },
  {
   "cell_type": "code",
   "execution_count": null,
   "metadata": {},
   "outputs": [],
   "source": []
  },
  {
   "cell_type": "code",
   "execution_count": null,
   "metadata": {},
   "outputs": [],
   "source": []
  },
  {
   "cell_type": "code",
   "execution_count": null,
   "metadata": {},
   "outputs": [],
   "source": []
  },
  {
   "cell_type": "code",
   "execution_count": null,
   "metadata": {},
   "outputs": [],
   "source": []
  }
 ],
 "metadata": {
  "kernelspec": {
   "display_name": "Python 3",
   "language": "python",
   "name": "python3"
  },
  "language_info": {
   "codemirror_mode": {
    "name": "ipython",
    "version": 3
   },
   "file_extension": ".py",
   "mimetype": "text/x-python",
   "name": "python",
   "nbconvert_exporter": "python",
   "pygments_lexer": "ipython3",
   "version": "3.6.8"
  }
 },
 "nbformat": 4,
 "nbformat_minor": 2
}
