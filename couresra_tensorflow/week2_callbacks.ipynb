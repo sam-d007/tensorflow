{
 "cells": [
  {
   "cell_type": "code",
   "execution_count": 1,
   "metadata": {},
   "outputs": [],
   "source": [
    "import tensorflow as tf"
   ]
  },
  {
   "cell_type": "code",
   "execution_count": 12,
   "metadata": {},
   "outputs": [],
   "source": [
    "#define a callback\n",
    "class myCallback(tf.keras.callbacks.Callback):\n",
    "    def on_epoch_end(self, epoch, logs={}):\n",
    "        if(logs.get('acc') > 0.6):\n",
    "            print(\"\\n Desired accuracy reached. Stop training\")\n",
    "            self.model.stop_training = True"
   ]
  },
  {
   "cell_type": "code",
   "execution_count": 2,
   "metadata": {},
   "outputs": [],
   "source": [
    "mnist = tf.keras.datasets.fashion_mnist"
   ]
  },
  {
   "cell_type": "code",
   "execution_count": 3,
   "metadata": {},
   "outputs": [],
   "source": [
    "(train_images, train_labels), (test_images, test_labels) = mnist.load_data()"
   ]
  },
  {
   "cell_type": "code",
   "execution_count": 4,
   "metadata": {},
   "outputs": [],
   "source": [
    "train_images = train_images/255\n",
    "test_images = test_images/255"
   ]
  },
  {
   "cell_type": "code",
   "execution_count": 5,
   "metadata": {},
   "outputs": [
    {
     "name": "stderr",
     "output_type": "stream",
     "text": [
      "WARNING: Logging before flag parsing goes to stderr.\n",
      "W0811 17:07:54.036705 140177946494784 deprecation.py:506] From /home/dynamo/sam_d007/envs/jvenv/lib/python3.6/site-packages/tensorflow/python/ops/init_ops.py:1251: calling VarianceScaling.__init__ (from tensorflow.python.ops.init_ops) with dtype is deprecated and will be removed in a future version.\n",
      "Instructions for updating:\n",
      "Call initializer instance with the dtype argument instead of passing it to the constructor\n"
     ]
    }
   ],
   "source": [
    "model = tf.keras.models.Sequential([\n",
    "    tf.keras.layers.Flatten(),\n",
    "    tf.keras.layers.Dense(256, activation = tf.nn.relu),\n",
    "    tf.keras.layers.Dense(10, activation = tf.nn.softmax),   \n",
    "])"
   ]
  },
  {
   "cell_type": "code",
   "execution_count": 6,
   "metadata": {},
   "outputs": [],
   "source": [
    "model.compile(optimizer= tf.train.AdamOptimizer(), loss='sparse_categorical_crossentropy', metrics = ['accuracy'])"
   ]
  },
  {
   "cell_type": "code",
   "execution_count": 7,
   "metadata": {},
   "outputs": [
    {
     "name": "stdout",
     "output_type": "stream",
     "text": [
      "Epoch 1/25\n",
      "60000/60000 [==============================] - 4s 71us/sample - loss: 0.4844 - acc: 0.8283\n",
      "Epoch 2/25\n",
      "60000/60000 [==============================] - 4s 68us/sample - loss: 0.3641 - acc: 0.8685\n",
      "Epoch 3/25\n",
      "60000/60000 [==============================] - 4s 69us/sample - loss: 0.3272 - acc: 0.8801\n",
      "Epoch 4/25\n",
      "60000/60000 [==============================] - 4s 68us/sample - loss: 0.3035 - acc: 0.8878\n",
      "Epoch 5/25\n",
      "60000/60000 [==============================] - 4s 71us/sample - loss: 0.2837 - acc: 0.8946\n",
      "Epoch 6/25\n",
      "60000/60000 [==============================] - 4s 70us/sample - loss: 0.2687 - acc: 0.9003\n",
      "Epoch 7/25\n",
      "60000/60000 [==============================] - 4s 70us/sample - loss: 0.2573 - acc: 0.9041\n",
      "Epoch 8/25\n",
      "60000/60000 [==============================] - 4s 71us/sample - loss: 0.2477 - acc: 0.9066\n",
      "Epoch 9/25\n",
      "60000/60000 [==============================] - 4s 70us/sample - loss: 0.2358 - acc: 0.9121\n",
      "Epoch 10/25\n",
      "60000/60000 [==============================] - 4s 70us/sample - loss: 0.2276 - acc: 0.9148\n",
      "Epoch 11/25\n",
      "60000/60000 [==============================] - 4s 71us/sample - loss: 0.2203 - acc: 0.9169\n",
      "Epoch 12/25\n",
      "60000/60000 [==============================] - 4s 71us/sample - loss: 0.2111 - acc: 0.9205\n",
      "Epoch 13/25\n",
      "60000/60000 [==============================] - 4s 72us/sample - loss: 0.2028 - acc: 0.9234\n",
      "Epoch 14/25\n",
      "60000/60000 [==============================] - 4s 73us/sample - loss: 0.1985 - acc: 0.9249\n",
      "Epoch 15/25\n",
      "60000/60000 [==============================] - 4s 73us/sample - loss: 0.1921 - acc: 0.9261\n",
      "Epoch 16/25\n",
      "60000/60000 [==============================] - 4s 72us/sample - loss: 0.1846 - acc: 0.9296\n",
      "Epoch 17/25\n",
      "60000/60000 [==============================] - 4s 70us/sample - loss: 0.1790 - acc: 0.9330\n",
      "Epoch 18/25\n",
      "60000/60000 [==============================] - 4s 71us/sample - loss: 0.1753 - acc: 0.9339\n",
      "Epoch 19/25\n",
      "60000/60000 [==============================] - 4s 71us/sample - loss: 0.1699 - acc: 0.9364\n",
      "Epoch 20/25\n",
      "60000/60000 [==============================] - 4s 72us/sample - loss: 0.1658 - acc: 0.9374\n",
      "Epoch 21/25\n",
      "60000/60000 [==============================] - 4s 72us/sample - loss: 0.1595 - acc: 0.9402\n",
      "Epoch 22/25\n",
      "60000/60000 [==============================] - 4s 71us/sample - loss: 0.1542 - acc: 0.9413\n",
      "Epoch 23/25\n",
      "60000/60000 [==============================] - 4s 71us/sample - loss: 0.1509 - acc: 0.9435\n",
      "Epoch 24/25\n",
      "60000/60000 [==============================] - 4s 72us/sample - loss: 0.1481 - acc: 0.9441\n",
      "Epoch 25/25\n",
      "60000/60000 [==============================] - 4s 72us/sample - loss: 0.1437 - acc: 0.9466\n"
     ]
    },
    {
     "data": {
      "text/plain": [
       "<tensorflow.python.keras.callbacks.History at 0x7f7d7a3c1940>"
      ]
     },
     "execution_count": 7,
     "metadata": {},
     "output_type": "execute_result"
    }
   ],
   "source": [
    "model.fit(train_images, train_labels, epochs = 25)"
   ]
  },
  {
   "cell_type": "code",
   "execution_count": 13,
   "metadata": {},
   "outputs": [
    {
     "name": "stdout",
     "output_type": "stream",
     "text": [
      "Epoch 1/15\n",
      "60000/60000 [==============================] - 5s 80us/sample - loss: 0.4872 - acc: 0.8270\n",
      "Epoch 2/15\n",
      "60000/60000 [==============================] - 5s 80us/sample - loss: 0.3650 - acc: 0.8673\n",
      "Epoch 3/15\n",
      "60000/60000 [==============================] - 5s 79us/sample - loss: 0.3283 - acc: 0.8801\n",
      "Epoch 4/15\n",
      "60000/60000 [==============================] - 5s 79us/sample - loss: 0.3033 - acc: 0.8868\n",
      "Epoch 5/15\n",
      "60000/60000 [==============================] - 5s 79us/sample - loss: 0.2863 - acc: 0.8935\n",
      "Epoch 6/15\n",
      "60000/60000 [==============================] - 5s 79us/sample - loss: 0.2712 - acc: 0.8984\n",
      "Epoch 7/15\n",
      "60000/60000 [==============================] - 5s 81us/sample - loss: 0.2585 - acc: 0.9041\n",
      "Epoch 8/15\n",
      "60000/60000 [==============================] - 5s 82us/sample - loss: 0.2466 - acc: 0.9083\n",
      "Epoch 9/15\n",
      "60000/60000 [==============================] - 5s 79us/sample - loss: 0.2372 - acc: 0.9100\n",
      "Epoch 10/15\n",
      "60000/60000 [==============================] - 5s 79us/sample - loss: 0.2285 - acc: 0.9127\n",
      "Epoch 11/15\n",
      "60000/60000 [==============================] - 5s 79us/sample - loss: 0.2211 - acc: 0.9153\n",
      "Epoch 12/15\n",
      "60000/60000 [==============================] - 5s 79us/sample - loss: 0.2124 - acc: 0.9201\n",
      "Epoch 13/15\n",
      "60000/60000 [==============================] - 5s 79us/sample - loss: 0.2073 - acc: 0.9227\n",
      "Epoch 14/15\n",
      "60000/60000 [==============================] - 5s 79us/sample - loss: 0.1989 - acc: 0.9250\n",
      "Epoch 15/15\n",
      "60000/60000 [==============================] - 5s 79us/sample - loss: 0.1917 - acc: 0.9265\n"
     ]
    },
    {
     "data": {
      "text/plain": [
       "<tensorflow.python.keras.callbacks.History at 0x7f7d441cfe48>"
      ]
     },
     "execution_count": 13,
     "metadata": {},
     "output_type": "execute_result"
    }
   ],
   "source": [
    "#this time fit the model with a custome callback, it will check the condition  after every epoch\n",
    "callback = myCallback()\n",
    "model2 = tf.keras.models.Sequential([\n",
    "    tf.keras.layers.Flatten(),\n",
    "    tf.keras.layers.Dense(256, activation = tf.nn.relu),\n",
    "    tf.keras.layers.Dense(10, activation = tf.nn.softmax),   \n",
    "])\n",
    "model2.compile(optimizer= tf.train.AdamOptimizer(), loss='sparse_categorical_crossentropy', metrics = ['accuracy'])\n",
    "model2.fit(train_images, train_labels, epochs = 15)"
   ]
  },
  {
   "cell_type": "code",
   "execution_count": null,
   "metadata": {},
   "outputs": [],
   "source": []
  }
 ],
 "metadata": {
  "kernelspec": {
   "display_name": "Python 3",
   "language": "python",
   "name": "python3"
  },
  "language_info": {
   "codemirror_mode": {
    "name": "ipython",
    "version": 3
   },
   "file_extension": ".py",
   "mimetype": "text/x-python",
   "name": "python",
   "nbconvert_exporter": "python",
   "pygments_lexer": "ipython3",
   "version": "3.6.8"
  }
 },
 "nbformat": 4,
 "nbformat_minor": 2
}
